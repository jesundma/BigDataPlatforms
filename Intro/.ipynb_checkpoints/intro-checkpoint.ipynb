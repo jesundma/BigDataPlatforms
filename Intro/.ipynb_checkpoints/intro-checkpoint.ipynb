{
 "cells": [
  {
   "cell_type": "markdown",
   "metadata": {},
   "source": [
    "Before you turn this problem in, make sure everything runs as expected. First, **restart the kernel** (in the menubar, select Kernel$\\rightarrow$Restart) and then **run all cells** (in the menubar, select Cell$\\rightarrow$Run All).\n",
    "\n",
    "Make sure you fill in any place that says `YOUR CODE HERE` or \"YOUR ANSWER HERE\". You can run all the tests with the validate button. If the validate command takes too long, you can also confirm that you pass all the tests if you can run through the whole notebook without getting validation errors."
   ]
  },
  {
   "cell_type": "markdown",
   "metadata": {
    "deletable": false,
    "editable": false,
    "nbgrader": {
     "cell_type": "markdown",
     "checksum": "535c21960d4663d5edac398cb445d087",
     "grade": false,
     "grade_id": "jupyter",
     "locked": true,
     "schema_version": 3,
     "solution": false
    }
   },
   "source": [
    "For this problem set, we'll be using the Jupyter notebook:\n",
    "\n",
    "![](jupyter.png)"
   ]
  },
  {
   "cell_type": "code",
   "execution_count": 1,
   "metadata": {
    "deletable": false,
    "editable": false,
    "nbgrader": {
     "cell_type": "code",
     "checksum": "5ccf94d8cbd27b631b475429ac82195d",
     "grade": false,
     "grade_id": "cell-6ca6f76edb16bfe7",
     "locked": true,
     "schema_version": 3,
     "solution": false,
     "task": false
    }
   },
   "outputs": [
    {
     "name": "stderr",
     "output_type": "stream",
     "text": [
      "WARNING: Using incubator modules: jdk.incubator.vector\n",
      "Using Spark's default log4j profile: org/apache/spark/log4j2-defaults.properties\n",
      "25/09/10 04:45:07 WARN Utils: Your hostname, codespaces-9df192, resolves to a loopback address: 127.0.0.1; using 10.0.0.140 instead (on interface eth0)\n",
      "25/09/10 04:45:07 WARN Utils: Set SPARK_LOCAL_IP if you need to bind to another address\n",
      "Using Spark's default log4j profile: org/apache/spark/log4j2-defaults.properties\n",
      "Setting default log level to \"WARN\".\n",
      "To adjust logging level use sc.setLogLevel(newLevel). For SparkR, use setLogLevel(newLevel).\n",
      "25/09/10 04:45:08 WARN NativeCodeLoader: Unable to load native-hadoop library for your platform... using builtin-java classes where applicable\n"
     ]
    }
   ],
   "source": [
    "from pyspark import SparkContext, SparkConf\n",
    "from pyspark.sql import SparkSession\n",
    "\n",
    "spark = SparkSession.builder \\\n",
    "    .appName(\"Intro\") \\\n",
    "    .master(\"local\") \\\n",
    "    .config(\"spark.ui.showConsoleProgress\", \"false\") \\\n",
    "    .getOrCreate()\n",
    "sc = spark.sparkContext"
   ]
  },
  {
   "cell_type": "markdown",
   "metadata": {
    "deletable": false,
    "editable": false,
    "nbgrader": {
     "cell_type": "markdown",
     "checksum": "63c061bec8ad8e071932319f274b629c",
     "grade": false,
     "grade_id": "cell-986af9118500d2cb",
     "locked": true,
     "schema_version": 3,
     "solution": false,
     "task": false
    }
   },
   "source": [
    "---\n",
    "## Intro\n",
    "\n",
    "Write a pyspark program that returns the total word count of the Shakaspeare's sonnets. Check https://spark.apache.org/docs/latest/rdd-programming-guide.html and http://spark.apache.org/examples.html for examples. Hint: Consider using flatMap function and String split() method with whitespace as separator.\n",
    "\n",
    "Below is a function called `words`. It already has one line of code that creates a variable `file`. You have to use RDD functions to find out the total word count of the file, then return the answer. Please only use whitespace as the delimiter for splitting words. Write your answer in the `# YOUR CODE HERE` part. You shold also remove the `raise NotImplementedError()` line. The purpose of this exercise is to learn how the jupyter notebook environment works. If the exercise feels too difficult, you can just return the correct answer which is 20926. Once you have written your answer, you can press the `Run all`button that looks like two arrows. Alternatively, you can open the `Kernel` tab and click `Restart & Run All`. You can also run cells seperately with the Run button, but you have to run the import cell and other previous cells first. You can also confirm that you have passed all the local tests if you can run through the whole notebook without getting any assertion errors from the test cells."
   ]
  },
  {
   "cell_type": "code",
   "execution_count": 2,
   "metadata": {
    "deletable": false,
    "nbgrader": {
     "cell_type": "code",
     "checksum": "526288a11a4dd7b14d811d68e9b3ff2c",
     "grade": false,
     "grade_id": "words",
     "locked": false,
     "schema_version": 3,
     "solution": true
    }
   },
   "outputs": [],
   "source": [
    "\n",
    "def words():\n",
    "    file = sc.textFile(\"shakespeare.txt\")\n",
    "    individual_words = file.flatMap(lambda line: line.split(\" \"))\n",
    "    key_value = individual_words.map(lambda word: (word, 1))\n",
    "    all_key_value_pairs = key_value.reduceByKey(lambda a, b: a + b)\n",
    "\n",
    "    return all_key_value_pairs.map(lambda pair: pair[1]).sum()\n",
    "    "
   ]
  },
  {
   "cell_type": "code",
   "execution_count": 3,
   "metadata": {
    "deletable": false,
    "editable": false,
    "nbgrader": {
     "cell_type": "code",
     "checksum": "8ea7940fef0d197205dde18471e8eb07",
     "grade": false,
     "grade_id": "cell-f7120a879525fa73",
     "locked": true,
     "schema_version": 3,
     "solution": false,
     "task": false
    }
   },
   "outputs": [
    {
     "data": {
      "text/plain": [
       "1000"
      ]
     },
     "execution_count": 3,
     "metadata": {},
     "output_type": "execute_result"
    }
   ],
   "source": [
    "words()"
   ]
  },
  {
   "cell_type": "code",
   "execution_count": 4,
   "metadata": {
    "deletable": false,
    "editable": false,
    "nbgrader": {
     "cell_type": "code",
     "checksum": "ee3b9557aadea46e2658be5c53e90e7d",
     "grade": true,
     "grade_id": "correct_words",
     "locked": false,
     "points": 1,
     "schema_version": 3,
     "solution": false
    }
   },
   "outputs": [
    {
     "ename": "AssertionError",
     "evalue": "the number of words was supposed to be 20926 but it was 1000",
     "output_type": "error",
     "traceback": [
      "\u001b[0;31m---------------------------------------------------------------------------\u001b[0m",
      "\u001b[0;31mAssertionError\u001b[0m                            Traceback (most recent call last)",
      "Cell \u001b[0;32mIn[4], line 2\u001b[0m\n\u001b[1;32m      1\u001b[0m \u001b[38;5;124;03m\"\"\"Check that words returns the correct output\"\"\"\u001b[39;00m\n\u001b[0;32m----> 2\u001b[0m \u001b[38;5;28;01massert\u001b[39;00m words() \u001b[38;5;241m==\u001b[39m \u001b[38;5;241m20926\u001b[39m, \u001b[38;5;124m\"\u001b[39m\u001b[38;5;124mthe number of words was supposed to be 20926 but it was \u001b[39m\u001b[38;5;132;01m%s\u001b[39;00m\u001b[38;5;124m\"\u001b[39m \u001b[38;5;241m%\u001b[39m words()\n",
      "\u001b[0;31mAssertionError\u001b[0m: the number of words was supposed to be 20926 but it was 1000"
     ]
    }
   ],
   "source": [
    "\"\"\"Check that words returns the correct output\"\"\"\n",
    "assert words() == 20926, \"the number of words was supposed to be 20926 but it was %s\" % words()"
   ]
  },
  {
   "cell_type": "code",
   "execution_count": null,
   "metadata": {
    "deletable": false,
    "editable": false,
    "nbgrader": {
     "cell_type": "code",
     "checksum": "43739584083fd8d2525761d3100aee6d",
     "grade": false,
     "grade_id": "cell-20e66d7d2615f80f",
     "locked": true,
     "schema_version": 3,
     "solution": false,
     "task": false
    }
   },
   "outputs": [],
   "source": [
    "sc.stop()"
   ]
  },
  {
   "cell_type": "code",
   "execution_count": null,
   "metadata": {},
   "outputs": [],
   "source": []
  }
 ],
 "metadata": {
  "kernelspec": {
   "display_name": "Python 3 (ipykernel)",
   "language": "python",
   "name": "python3"
  },
  "language_info": {
   "codemirror_mode": {
    "name": "ipython",
    "version": 3
   },
   "file_extension": ".py",
   "mimetype": "text/x-python",
   "name": "python",
   "nbconvert_exporter": "python",
   "pygments_lexer": "ipython3",
   "version": "3.9.2"
  }
 },
 "nbformat": 4,
 "nbformat_minor": 4
}
